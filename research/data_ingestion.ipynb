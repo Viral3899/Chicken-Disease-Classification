{
 "cells": [
  {
   "cell_type": "code",
   "execution_count": 2,
   "metadata": {},
   "outputs": [
    {
     "name": "stdout",
     "output_type": "stream",
     "text": [
      "d:\\project_task_extra\\deep learning\\Chicken-Disease-Classification\n"
     ]
    }
   ],
   "source": [
    "import os\n",
    "%cd d:/project_task_extra/deep learning/Chicken-Disease-Classification"
   ]
  },
  {
   "cell_type": "code",
   "execution_count": 3,
   "metadata": {},
   "outputs": [
    {
     "data": {
      "text/plain": [
       "'d:\\\\project_task_extra\\\\deep learning\\\\Chicken-Disease-Classification'"
      ]
     },
     "execution_count": 3,
     "metadata": {},
     "output_type": "execute_result"
    }
   ],
   "source": [
    "pwd"
   ]
  },
  {
   "cell_type": "code",
   "execution_count": 4,
   "metadata": {},
   "outputs": [
    {
     "name": "stdout",
     "output_type": "stream",
     "text": [
      "[2023-06-07 17:10:22,346] || common.py || 32 || root || read_yaml() || 32 || INFO || yaml file : config\\config.yaml loaded successfully ||\n",
      "[2023-06-07 17:10:22,348] || common.py || 32 || root || read_yaml() || 32 || INFO || yaml file : params.yaml loaded successfully ||\n",
      "[2023-06-07 17:10:22,349] || common.py || 67 || root || create_directories() || 67 || INFO || Directory artifacts already exists ||\n",
      "[2023-06-07 17:10:22,351] || common.py || 67 || root || create_directories() || 67 || INFO || Directory artifacts/data_ingestion already exists ||\n",
      "[2023-06-07 17:10:27,698] || 1457789500.py || 69 || root || download_file() || 69 || INFO || artifacts/data_ingestion/data.zip downloaded to following info \n",
      "Connection: close\n",
      "Cache-Control: max-age=300\n",
      "Content-Security-Policy: default-src 'none'; style-src 'unsafe-inline'; sandbox\n",
      "Content-Type: application/zip\n",
      "ETag: \"adf745abc03891fe493c3be264ec012691fe3fa21d861f35a27edbe6d86a76b1\"\n",
      "Strict-Transport-Security: max-age=31536000\n",
      "X-Content-Type-Options: nosniff\n",
      "X-Frame-Options: deny\n",
      "X-XSS-Protection: 1; mode=block\n",
      "X-GitHub-Request-Id: B1FE:7AB1:26AA29:3A010E:64806CA6\n",
      "Accept-Ranges: bytes\n",
      "Date: Wed, 07 Jun 2023 11:40:23 GMT\n",
      "Via: 1.1 varnish\n",
      "X-Served-By: cache-bom4746-BOM\n",
      "X-Cache: MISS\n",
      "X-Cache-Hits: 0\n",
      "X-Timer: S1686138023.726302,VS0,VE1134\n",
      "Vary: Authorization,Accept-Encoding,Origin\n",
      "Access-Control-Allow-Origin: *\n",
      "X-Fastly-Request-ID: 97fdc07e11a978fb60b2c4b321f3064ca5eeea24\n",
      "Expires: Wed, 07 Jun 2023 11:45:23 GMT\n",
      "Source-Age: 1\n",
      "Content-Length: 11616915\n",
      "\n",
      " ||\n",
      "artifacts/data_ingestion/data.zip\n"
     ]
    }
   ],
   "source": [
    "from dataclasses import dataclass\n",
    "from pathlib import Path\n",
    "\n",
    "\n",
    "@dataclass(frozen=True)\n",
    "class DataIngestionConfig:\n",
    "    root_dir : Path\n",
    "    source_URL : str\n",
    "    local_data_file : str\n",
    "    unzip_dir : Path\n",
    "    \n",
    "\n",
    "\n",
    "from Chicken_Disease_classification.constants import *\n",
    "from Chicken_Disease_classification.utils.common import read_yaml,create_directories\n",
    "\n",
    "\n",
    "\n",
    "class ConfigurationManger:\n",
    "    def __init__(self,\n",
    "                 config_filepath = CONFIG_FILE_PATH,\n",
    "                 params_filepath = PARAMS_FILE_PATH\n",
    "                 ):\n",
    "        self.config = read_yaml(config_filepath)\n",
    "        self.params = read_yaml(params_filepath)\n",
    "        # print(self.config,type(self.config))\n",
    "        \n",
    "        # print(s)\n",
    "        create_directories([self.config.artifacts_root])\n",
    "        \n",
    "    def get_data_ingestion_config(self) ->DataIngestionConfig:\n",
    "        config = self.config.data_ingestion\n",
    "        \n",
    "        create_directories([config.root_dir])\n",
    "        \n",
    "        data_ingestion_config = DataIngestionConfig(\n",
    "            \n",
    "            root_dir=config.root_dir,\n",
    "            source_URL=config.source_URL,\n",
    "            local_data_file=config.local_data_file,\n",
    "            unzip_dir=config.unzip_dir\n",
    "        )\n",
    "        \n",
    "        \n",
    "        return data_ingestion_config\n",
    "    \n",
    "import os\n",
    "import urllib.request as request\n",
    "import zipfile\n",
    "from Chicken_Disease_classification import  logger\n",
    "from Chicken_Disease_classification.utils.common import get_file_size\n",
    "\n",
    "\n",
    "\n",
    "\n",
    "\n",
    "class DataIngestion:\n",
    "    def __init__(self,config:DataIngestionConfig):\n",
    "        self.config = config\n",
    "        \n",
    "        \n",
    "    \n",
    "    def download_file(self):\n",
    "        if not os.path.exists(self.config.local_data_file):\n",
    "            filename, headers = request.urlretrieve(\n",
    "                url=self.config.source_URL,\n",
    "                filename=self.config.local_data_file\n",
    "            )\n",
    "            logger.info(f\"{filename} downloaded to following info \\n{headers}\")\n",
    "        else:\n",
    "            print(self.config.local_data_file)\n",
    "            logger.info(f\"{self.config.local_data_file} already exists with size of {get_file_size(path = self.config.local_data_file)}\")\n",
    "            \n",
    "    def extract_zip_file(self):\n",
    "        \n",
    "        unzip_path = self.config.unzip_dir\n",
    "        os.makedirs(unzip_path,exist_ok=True)\n",
    "        print(self.config.local_data_file)\n",
    "        with zipfile.ZipFile(self.config.local_data_file,'r') as zip_ref:\n",
    "            zip_ref.extractall(unzip_path)\n",
    "            \n",
    "\n",
    "try:\n",
    "    config = ConfigurationManger()\n",
    "    data_ingestion_config = config.get_data_ingestion_config()\n",
    "    data_ingestion = DataIngestion(config=data_ingestion_config)\n",
    "    data_ingestion.download_file()\n",
    "    data_ingestion.extract_zip_file()\n",
    "except Exception as e:\n",
    "    raise e\n",
    "            "
   ]
  },
  {
   "cell_type": "code",
   "execution_count": null,
   "metadata": {},
   "outputs": [],
   "source": []
  }
 ],
 "metadata": {
  "kernelspec": {
   "display_name": "Python 3",
   "language": "python",
   "name": "python3"
  },
  "language_info": {
   "codemirror_mode": {
    "name": "ipython",
    "version": 3
   },
   "file_extension": ".py",
   "mimetype": "text/x-python",
   "name": "python",
   "nbconvert_exporter": "python",
   "pygments_lexer": "ipython3",
   "version": "3.8.16"
  },
  "orig_nbformat": 4
 },
 "nbformat": 4,
 "nbformat_minor": 2
}
